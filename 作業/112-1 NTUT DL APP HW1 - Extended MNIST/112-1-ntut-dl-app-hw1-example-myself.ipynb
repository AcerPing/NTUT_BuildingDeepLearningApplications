{
 "metadata": {
  "kernelspec": {
   "language": "python",
   "display_name": "Python 3",
   "name": "python3"
  },
  "language_info": {
   "name": "python",
   "version": "3.10.12",
   "mimetype": "text/x-python",
   "codemirror_mode": {
    "name": "ipython",
    "version": 3
   },
   "pygments_lexer": "ipython3",
   "nbconvert_exporter": "python",
   "file_extension": ".py"
  }
 },
 "nbformat_minor": 4,
 "nbformat": 4,
 "cells": [
  {
   "cell_type": "code",
   "source": [
    "import numpy as np\n",
    "from tensorflow.keras import models\n",
    "from tensorflow.keras import layers\n",
    "from tensorflow.keras.utils import to_categorical"
   ],
   "metadata": {
    "_cell_guid": "b1076dfc-b9ad-4769-8c92-a6c4dae69d19",
    "_uuid": "8f2839f25d086af736a60e9eeb907d3b93b6e0e5",
    "papermill": {
     "duration": 5.20508,
     "end_time": "2022-03-07T15:41:38.39523",
     "exception": false,
     "start_time": "2022-03-07T15:41:33.19015",
     "status": "completed"
    },
    "tags": [],
    "execution": {
     "iopub.status.busy": "2023-09-20T03:06:54.144576Z",
     "iopub.execute_input": "2023-09-20T03:06:54.145016Z",
     "iopub.status.idle": "2023-09-20T03:06:54.152215Z",
     "shell.execute_reply.started": "2023-09-20T03:06:54.144983Z",
     "shell.execute_reply": "2023-09-20T03:06:54.150793Z"
    },
    "trusted": true
   },
   "execution_count": 15,
   "outputs": []
  },
  {
   "cell_type": "code",
   "source": [
    "# Input data files are available in the \"/kaggle/input/110-1-ntut-dl-app-hw1/\" directory.\n",
    "DATA_DIR = '/kaggle/input/ntutemnist/'\n",
    "TRAIN_DATA_FILE = DATA_DIR + 'emnist-byclass-train.npz'\n",
    "TEST_DATA_FILE = DATA_DIR + 'emnist-byclass-test.npz'"
   ],
   "metadata": {
    "papermill": {
     "duration": 0.016169,
     "end_time": "2022-03-07T15:41:38.42241",
     "exception": false,
     "start_time": "2022-03-07T15:41:38.406241",
     "status": "completed"
    },
    "tags": [],
    "execution": {
     "iopub.status.busy": "2023-09-20T03:06:54.155102Z",
     "iopub.execute_input": "2023-09-20T03:06:54.155511Z",
     "iopub.status.idle": "2023-09-20T03:06:54.167636Z",
     "shell.execute_reply.started": "2023-09-20T03:06:54.155476Z",
     "shell.execute_reply": "2023-09-20T03:06:54.166447Z"
    },
    "trusted": true
   },
   "execution_count": 16,
   "outputs": []
  },
  {
   "cell_type": "code",
   "source": [
    "# Load training data\n",
    "data = np.load(TRAIN_DATA_FILE)\n",
    "train_labels = data['training_labels']\n",
    "train_images = data['training_images']\n",
    "train_labels"
   ],
   "metadata": {
    "papermill": {
     "duration": 10.337571,
     "end_time": "2022-03-07T15:41:48.769859",
     "exception": false,
     "start_time": "2022-03-07T15:41:38.432288",
     "status": "completed"
    },
    "tags": [],
    "execution": {
     "iopub.status.busy": "2023-09-20T03:06:54.169181Z",
     "iopub.execute_input": "2023-09-20T03:06:54.169852Z",
     "iopub.status.idle": "2023-09-20T03:07:01.955883Z",
     "shell.execute_reply.started": "2023-09-20T03:06:54.169813Z",
     "shell.execute_reply": "2023-09-20T03:07:01.954504Z"
    },
    "trusted": true
   },
   "execution_count": 17,
   "outputs": [
    {
     "execution_count": 17,
     "output_type": "execute_result",
     "data": {
      "text/plain": "array([[35],\n       [36],\n       [ 6],\n       ...,\n       [ 5],\n       [11],\n       [22]], dtype=uint8)"
     },
     "metadata": {}
    }
   ]
  },
  {
   "cell_type": "code",
   "source": [
    "trn_images = train_images.reshape((train_images.shape[0], 28 * 28))\n",
    "trn_images = trn_images.astype('float32') / 255\n",
    "trn_labels = to_categorical(train_labels)\n",
    "trn_labels"
   ],
   "metadata": {
    "papermill": {
     "duration": 1.126376,
     "end_time": "2022-03-07T15:41:49.906707",
     "exception": false,
     "start_time": "2022-03-07T15:41:48.780331",
     "status": "completed"
    },
    "tags": [],
    "execution": {
     "iopub.status.busy": "2023-09-20T03:07:01.957543Z",
     "iopub.execute_input": "2023-09-20T03:07:01.957920Z",
     "iopub.status.idle": "2023-09-20T03:07:04.249404Z",
     "shell.execute_reply.started": "2023-09-20T03:07:01.957885Z",
     "shell.execute_reply": "2023-09-20T03:07:04.247793Z"
    },
    "trusted": true
   },
   "execution_count": 18,
   "outputs": [
    {
     "execution_count": 18,
     "output_type": "execute_result",
     "data": {
      "text/plain": "array([[0., 0., 0., ..., 0., 0., 0.],\n       [0., 0., 0., ..., 0., 0., 0.],\n       [0., 0., 0., ..., 0., 0., 0.],\n       ...,\n       [0., 0., 0., ..., 0., 0., 0.],\n       [0., 0., 0., ..., 0., 0., 0.],\n       [0., 0., 0., ..., 0., 0., 0.]], dtype=float32)"
     },
     "metadata": {}
    }
   ]
  },
  {
   "cell_type": "code",
   "source": [
    "# Define Your Own Network\n",
    "network = models.Sequential()\n",
    "network.add(layers.Dense(512, activation='relu', input_shape=(28 * 28,)))\n",
    "network.add(layers.Dense(128, activation='relu'))\n",
    "network.add(layers.Dense(62, activation='softmax'))\n",
    "\n",
    "# network.compile(optimizer='rmsprop', loss='categorical_crossentropy', metrics=['accuracy'])\n",
    "network.compile(optimizer='adam', loss='categorical_crossentropy', metrics=['accuracy'])"
   ],
   "metadata": {
    "papermill": {
     "duration": 2.51158,
     "end_time": "2022-03-07T15:41:52.434528",
     "exception": false,
     "start_time": "2022-03-07T15:41:49.922948",
     "status": "completed"
    },
    "tags": [],
    "execution": {
     "iopub.status.busy": "2023-09-20T03:07:04.253318Z",
     "iopub.execute_input": "2023-09-20T03:07:04.253743Z",
     "iopub.status.idle": "2023-09-20T03:07:04.338410Z",
     "shell.execute_reply.started": "2023-09-20T03:07:04.253709Z",
     "shell.execute_reply": "2023-09-20T03:07:04.337318Z"
    },
    "trusted": true
   },
   "execution_count": 19,
   "outputs": []
  },
  {
   "cell_type": "code",
   "source": [
    "network.fit(trn_images, trn_labels, epochs=20, batch_size=128)"
   ],
   "metadata": {
    "papermill": {
     "duration": 85.648922,
     "end_time": "2022-03-07T15:43:18.094238",
     "exception": false,
     "start_time": "2022-03-07T15:41:52.445316",
     "status": "completed"
    },
    "tags": [],
    "execution": {
     "iopub.status.busy": "2023-09-20T03:07:04.340433Z",
     "iopub.execute_input": "2023-09-20T03:07:04.341837Z",
     "iopub.status.idle": "2023-09-20T03:24:29.353477Z",
     "shell.execute_reply.started": "2023-09-20T03:07:04.341779Z",
     "shell.execute_reply": "2023-09-20T03:24:29.352123Z"
    },
    "trusted": true
   },
   "execution_count": 20,
   "outputs": [
    {
     "name": "stdout",
     "text": "Epoch 1/20\n5453/5453 [==============================] - 51s 9ms/step - loss: 1.2821 - accuracy: 0.6396\nEpoch 2/20\n5453/5453 [==============================] - 48s 9ms/step - loss: 0.7313 - accuracy: 0.7733\nEpoch 3/20\n5453/5453 [==============================] - 49s 9ms/step - loss: 0.6088 - accuracy: 0.8033\nEpoch 4/20\n5453/5453 [==============================] - 49s 9ms/step - loss: 0.5515 - accuracy: 0.8175\nEpoch 5/20\n5453/5453 [==============================] - 50s 9ms/step - loss: 0.5165 - accuracy: 0.8266\nEpoch 6/20\n5453/5453 [==============================] - 51s 9ms/step - loss: 0.4939 - accuracy: 0.8321\nEpoch 7/20\n5453/5453 [==============================] - 52s 9ms/step - loss: 0.4761 - accuracy: 0.8362\nEpoch 8/20\n5453/5453 [==============================] - 51s 9ms/step - loss: 0.4628 - accuracy: 0.8400\nEpoch 9/20\n5453/5453 [==============================] - 53s 10ms/step - loss: 0.4519 - accuracy: 0.8427\nEpoch 10/20\n5453/5453 [==============================] - 52s 10ms/step - loss: 0.4427 - accuracy: 0.8448\nEpoch 11/20\n5453/5453 [==============================] - 51s 9ms/step - loss: 0.4343 - accuracy: 0.8474\nEpoch 12/20\n5453/5453 [==============================] - 52s 10ms/step - loss: 0.4274 - accuracy: 0.8492\nEpoch 13/20\n5453/5453 [==============================] - 53s 10ms/step - loss: 0.4211 - accuracy: 0.8506\nEpoch 14/20\n5453/5453 [==============================] - 52s 9ms/step - loss: 0.4157 - accuracy: 0.8518\nEpoch 15/20\n5453/5453 [==============================] - 49s 9ms/step - loss: 0.4108 - accuracy: 0.8534\nEpoch 16/20\n5453/5453 [==============================] - 50s 9ms/step - loss: 0.4060 - accuracy: 0.8547\nEpoch 17/20\n5453/5453 [==============================] - 48s 9ms/step - loss: 0.4018 - accuracy: 0.8556\nEpoch 18/20\n5453/5453 [==============================] - 48s 9ms/step - loss: 0.3982 - accuracy: 0.8565\nEpoch 19/20\n5453/5453 [==============================] - 49s 9ms/step - loss: 0.3947 - accuracy: 0.8577\nEpoch 20/20\n5453/5453 [==============================] - 49s 9ms/step - loss: 0.3908 - accuracy: 0.8586\n",
     "output_type": "stream"
    },
    {
     "execution_count": 20,
     "output_type": "execute_result",
     "data": {
      "text/plain": "<keras.callbacks.History at 0x789a4bcff160>"
     },
     "metadata": {}
    }
   ]
  },
  {
   "cell_type": "code",
   "source": [
    "# Evalute our model on test data\n",
    "test_images = np.load(TEST_DATA_FILE)['testing_images']"
   ],
   "metadata": {
    "papermill": {
     "duration": 2.39167,
     "end_time": "2022-03-07T15:43:20.974939",
     "exception": false,
     "start_time": "2022-03-07T15:43:18.583269",
     "status": "completed"
    },
    "tags": [],
    "execution": {
     "iopub.status.busy": "2023-09-20T03:24:29.355019Z",
     "iopub.execute_input": "2023-09-20T03:24:29.355725Z",
     "iopub.status.idle": "2023-09-20T03:24:30.848871Z",
     "shell.execute_reply.started": "2023-09-20T03:24:29.355685Z",
     "shell.execute_reply": "2023-09-20T03:24:30.847691Z"
    },
    "trusted": true
   },
   "execution_count": 21,
   "outputs": []
  },
  {
   "cell_type": "code",
   "source": [
    "tst_images = test_images.reshape((test_images.shape[0], 28 * 28))\n",
    "tst_images = tst_images.astype('float32') / 255"
   ],
   "metadata": {
    "papermill": {
     "duration": 0.65164,
     "end_time": "2022-03-07T15:43:22.113798",
     "exception": false,
     "start_time": "2022-03-07T15:43:21.462158",
     "status": "completed"
    },
    "tags": [],
    "execution": {
     "iopub.status.busy": "2023-09-20T03:24:30.850180Z",
     "iopub.execute_input": "2023-09-20T03:24:30.850631Z",
     "iopub.status.idle": "2023-09-20T03:24:31.048675Z",
     "shell.execute_reply.started": "2023-09-20T03:24:30.850579Z",
     "shell.execute_reply": "2023-09-20T03:24:31.047036Z"
    },
    "trusted": true
   },
   "execution_count": 22,
   "outputs": []
  },
  {
   "cell_type": "code",
   "source": [
    "# Print the predicted classes of test images\n",
    "results = network.predict(tst_images).argmax(axis=-1)\n",
    "results"
   ],
   "metadata": {
    "papermill": {
     "duration": 6.349545,
     "end_time": "2022-03-07T15:43:28.945372",
     "exception": false,
     "start_time": "2022-03-07T15:43:22.595827",
     "status": "completed"
    },
    "tags": [],
    "execution": {
     "iopub.status.busy": "2023-09-20T03:24:31.050175Z",
     "iopub.execute_input": "2023-09-20T03:24:31.050535Z",
     "iopub.status.idle": "2023-09-20T03:24:51.991248Z",
     "shell.execute_reply.started": "2023-09-20T03:24:31.050502Z",
     "shell.execute_reply": "2023-09-20T03:24:51.989342Z"
    },
    "trusted": true
   },
   "execution_count": 23,
   "outputs": [
    {
     "name": "stdout",
     "text": "3636/3636 [==============================] - 11s 3ms/step\n",
     "output_type": "stream"
    },
    {
     "execution_count": 23,
     "output_type": "execute_result",
     "data": {
      "text/plain": "array([ 1, 36,  0, ..., 55, 28, 24])"
     },
     "metadata": {}
    }
   ]
  },
  {
   "cell_type": "code",
   "source": [
    "# Print results in CSV format and upload to Kaggle\n",
    "with open('pred_results.csv', 'w') as f:\n",
    "    f.write('Id,Category\\n')\n",
    "    for i in range(len(results)):\n",
    "        f.write(str(i) + ',' + str(results[i]) + '\\n')"
   ],
   "metadata": {
    "papermill": {
     "duration": 0.677703,
     "end_time": "2022-03-07T15:43:30.1083",
     "exception": false,
     "start_time": "2022-03-07T15:43:29.430597",
     "status": "completed"
    },
    "tags": [],
    "execution": {
     "iopub.status.busy": "2023-09-20T03:24:51.993642Z",
     "iopub.execute_input": "2023-09-20T03:24:51.994150Z",
     "iopub.status.idle": "2023-09-20T03:24:52.292235Z",
     "shell.execute_reply.started": "2023-09-20T03:24:51.994110Z",
     "shell.execute_reply": "2023-09-20T03:24:52.290807Z"
    },
    "trusted": true
   },
   "execution_count": 24,
   "outputs": []
  },
  {
   "cell_type": "code",
   "source": [
    "# Download your results!\n",
    "from IPython.display import FileLink\n",
    "FileLink('pred_results.csv')"
   ],
   "metadata": {
    "papermill": {
     "duration": 0.495647,
     "end_time": "2022-03-07T15:43:31.093704",
     "exception": false,
     "start_time": "2022-03-07T15:43:30.598057",
     "status": "completed"
    },
    "tags": [],
    "execution": {
     "iopub.status.busy": "2023-09-20T03:24:52.294402Z",
     "iopub.execute_input": "2023-09-20T03:24:52.294909Z",
     "iopub.status.idle": "2023-09-20T03:24:52.303307Z",
     "shell.execute_reply.started": "2023-09-20T03:24:52.294863Z",
     "shell.execute_reply": "2023-09-20T03:24:52.302056Z"
    },
    "trusted": true
   },
   "execution_count": 25,
   "outputs": [
    {
     "execution_count": 25,
     "output_type": "execute_result",
     "data": {
      "text/plain": "/kaggle/working/pred_results.csv",
      "text/html": "<a href='pred_results.csv' target='_blank'>pred_results.csv</a><br>"
     },
     "metadata": {}
    }
   ]
  }
 ]
}
